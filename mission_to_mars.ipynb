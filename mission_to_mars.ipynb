{
 "cells": [
  {
   "cell_type": "code",
   "execution_count": 8,
   "id": "9db65f4d",
   "metadata": {},
   "outputs": [],
   "source": [
    "import traceback\n",
    "import sys\n",
    "from bs4 import BeautifulSoup as bs4\n",
    "import pandas as pd \n",
    "from splinter import Browser\n",
    "from webdriver_manager.chrome import ChromeDriverManager"
   ]
  },
  {
   "cell_type": "code",
   "execution_count": 9,
   "id": "679f9d1d",
   "metadata": {},
   "outputs": [],
   "source": [
    "# URLs to scrape\n",
    "nasa_news = \"https://mars.nasa.gov/news/\"\n",
    "mars_images = \"https://data-class-jpl-space.s3.amazonaws.com/JPL_Space/index.html\"\n",
    "mars_facts = \"https://space-facts.com/mars/\"\n",
    "astro_url = \"https://astrogeology.usgs.gov\"\n",
    "mars_hemispheres = astro_url + \"/search/results?q=hemisphere+enhanced&k1=target&v1=Mars\"\n",
    "weather_url = \"https://twitter.com/marswxreport?lang=en\""
   ]
  },
  {
   "cell_type": "code",
   "execution_count": 10,
   "id": "a8c1229a",
   "metadata": {},
   "outputs": [],
   "source": [
    "# browser to enable scraping through chrome\n",
    "# Creation of ChromeBrowser object will open then close a new browser to perform an operation\n",
    "class ChromeBrowser(object):\n",
    "\n",
    "    def __init__(self, url):\n",
    "        self.url = url\n",
    "\n",
    "    def __enter__(self):\n",
    "        executable_path = {'executable_path': ChromeDriverManager().install()}\n",
    "        self.browser = Browser('chrome', **executable_path, headless=False)\n",
    "        self.browser.visit(self.url)\n",
    "        return self.browser\n",
    "\n",
    "    def __exit__(self, ex_type, val, tb):\n",
    "        if (ex_type is not None):\n",
    "            traceback.print_exception(ex_type, val, tb)\n",
    "        if (self.browser is not None):\n",
    "            self.browser.quit()\n",
    "        return True"
   ]
  },
  {
   "cell_type": "code",
   "execution_count": 11,
   "id": "a3c886e2",
   "metadata": {},
   "outputs": [
    {
     "name": "stderr",
     "output_type": "stream",
     "text": [
      "\n",
      "\n",
      "====== WebDriver manager ======\n",
      "Current google-chrome version is 95.0.4638\n",
      "Get LATEST driver version for 95.0.4638\n",
      "Driver [C:\\Users\\bhati\\.wdm\\drivers\\chromedriver\\win32\\95.0.4638.69\\chromedriver.exe] found in cache\n",
      "Traceback (most recent call last):\n",
      "  File \"<ipython-input-11-989cdfd0a28a>\", line 10, in <module>\n",
      "    news_p = soup.find('div', class_='article_teaser_body').text\n",
      "AttributeError: 'NoneType' object has no attribute 'text'\n"
     ]
    },
    {
     "name": "stdout",
     "output_type": "stream",
     "text": [
      "Mars Now\n",
      "---------------------\n",
      "\n"
     ]
    }
   ],
   "source": [
    "# Scrape NASA News\n",
    "# Collect news_title and from site and store for later use\n",
    "news_title = \"\"\n",
    "news_p = \"\"\n",
    "\n",
    "with ChromeBrowser(nasa_news) as browser: \n",
    "    html = browser.html\n",
    "    soup = bs4(html, \"html.parser\")\n",
    "    news_title = soup.find('div', class_='content_title').text\n",
    "    news_p = soup.find('div', class_='article_teaser_body').text\n",
    "\n",
    "print(news_title)\n",
    "print('---------------------')\n",
    "print(news_p)"
   ]
  },
  {
   "cell_type": "code",
   "execution_count": 12,
   "id": "b79ef2d8",
   "metadata": {},
   "outputs": [
    {
     "name": "stderr",
     "output_type": "stream",
     "text": [
      "\n",
      "\n",
      "====== WebDriver manager ======\n",
      "Current google-chrome version is 95.0.4638\n",
      "Get LATEST driver version for 95.0.4638\n",
      "Driver [C:\\Users\\bhati\\.wdm\\drivers\\chromedriver\\win32\\95.0.4638.69\\chromedriver.exe] found in cache\n"
     ]
    },
    {
     "name": "stdout",
     "output_type": "stream",
     "text": [
      "https://data-class-jpl-space.s3.amazonaws.com/JPL_Space/image/featured/mars1.jpg\n"
     ]
    }
   ],
   "source": [
    "image_url = \"\"\n",
    "\n",
    "with ChromeBrowser(mars_images) as browser:\n",
    "    html = browser.html\n",
    "    soup = bs4(html, \"html.parser\")\n",
    "    browser.links.find_by_partial_text(\"FULL IMAGE\").click()\n",
    "    html = browser.html\n",
    "    soup = bs4(html, \"html.parser\")\n",
    "    image_url = mars_images.replace(\"index.html\", soup.find(class_=\"fancybox-image\")[\"src\"])\n",
    "print(image_url)"
   ]
  },
  {
   "cell_type": "code",
   "execution_count": 13,
   "id": "7f884324",
   "metadata": {},
   "outputs": [
    {
     "name": "stderr",
     "output_type": "stream",
     "text": [
      "\n",
      "\n",
      "====== WebDriver manager ======\n",
      "Current google-chrome version is 95.0.4638\n",
      "Get LATEST driver version for 95.0.4638\n",
      "Driver [C:\\Users\\bhati\\.wdm\\drivers\\chromedriver\\win32\\95.0.4638.69\\chromedriver.exe] found in cache\n"
     ]
    },
    {
     "name": "stdout",
     "output_type": "stream",
     "text": [
      "{'title': 'Cerberus Hemisphere Enhanced', 'img_url': 'https://astrogeology.usgs.gov/cache/images/f5e372a36edfa389625da6d0cc25d905_cerberus_enhanced.tif_full.jpg'}\n",
      "{'title': 'Schiaparelli Hemisphere Enhanced', 'img_url': 'https://astrogeology.usgs.gov/cache/images/3778f7b43bbbc89d6e3cfabb3613ba93_schiaparelli_enhanced.tif_full.jpg'}\n",
      "{'title': 'Syrtis Major Hemisphere Enhanced', 'img_url': 'https://astrogeology.usgs.gov/cache/images/555e6403a6ddd7ba16ddb0e471cadcf7_syrtis_major_enhanced.tif_full.jpg'}\n",
      "{'title': 'Valles Marineris Hemisphere Enhanced', 'img_url': 'https://astrogeology.usgs.gov/cache/images/b3c7c6c9138f57b4756be9b9c43e3a48_valles_marineris_enhanced.tif_full.jpg'}\n"
     ]
    }
   ],
   "source": [
    "image_urls = []\n",
    "\n",
    "with ChromeBrowser(mars_hemispheres) as browser:\n",
    "    html = browser.html\n",
    "    soup = bs4(html, \"html.parser\")\n",
    "    res = soup.find(class_=\"result-list\").find_all(class_=\"item\")\n",
    "    for r in res: \n",
    "        hemi = {}\n",
    "        hemi[\"title\"] = r.find(\"h3\").text\n",
    "        browser.links.find_by_partial_text(hemi[\"title\"]).click()\n",
    "        html = browser.html\n",
    "        soup = bs4(html, \"html.parser\")\n",
    "        hemi[\"img_url\"] = astro_url + soup.find(class_=\"wide-image\")[\"src\"]\n",
    "        image_urls.append(hemi)\n",
    "        browser.back()\n",
    "\n",
    "for url in image_urls:\n",
    "    print(url)"
   ]
  },
  {
   "cell_type": "code",
   "execution_count": 14,
   "id": "686e9032",
   "metadata": {},
   "outputs": [
    {
     "name": "stderr",
     "output_type": "stream",
     "text": [
      "\n",
      "\n",
      "====== WebDriver manager ======\n",
      "Current google-chrome version is 95.0.4638\n",
      "Get LATEST driver version for 95.0.4638\n",
      "Driver [C:\\Users\\bhati\\.wdm\\drivers\\chromedriver\\win32\\95.0.4638.69\\chromedriver.exe] found in cache\n"
     ]
    },
    {
     "name": "stdout",
     "output_type": "stream",
     "text": [
      "[]\n"
     ]
    }
   ],
   "source": [
    "with ChromeBrowser(weather_url) as browser:\n",
    "        html = browser.html\n",
    "        soup = bs4(html, 'html.parser')\n",
    "\n",
    "        results = soup.find_all('p', class_=\"TweetTextSize\")\n",
    "\n",
    "        # Grab text of first tweet\n",
    "        \n",
    "        print(results)"
   ]
  },
  {
   "cell_type": "code",
   "execution_count": null,
   "id": "2250dc0a",
   "metadata": {},
   "outputs": [],
   "source": []
  }
 ],
 "metadata": {
  "kernelspec": {
   "display_name": "Python 3",
   "language": "python",
   "name": "python3"
  },
  "language_info": {
   "codemirror_mode": {
    "name": "ipython",
    "version": 3
   },
   "file_extension": ".py",
   "mimetype": "text/x-python",
   "name": "python",
   "nbconvert_exporter": "python",
   "pygments_lexer": "ipython3",
   "version": "3.8.8"
  }
 },
 "nbformat": 4,
 "nbformat_minor": 5
}
